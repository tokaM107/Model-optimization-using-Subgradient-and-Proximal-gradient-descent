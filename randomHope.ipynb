{
 "cells": [
  {
   "cell_type": "code",
   "execution_count": 1,
   "id": "1d026bc9-29be-4d67-8d70-903d0daaf4d7",
   "metadata": {},
   "outputs": [],
   "source": [
    "import numpy as np\n",
    "import pandas as pd\n",
    "import random"
   ]
  },
  {
   "cell_type": "markdown",
   "id": "ebb3ff52",
   "metadata": {},
   "source": [
    "## Data import"
   ]
  },
  {
   "cell_type": "code",
   "execution_count": 3,
   "id": "5b5e7ed4",
   "metadata": {},
   "outputs": [
    {
     "name": "stdout",
     "output_type": "stream",
     "text": [
      "Requirement already satisfied: ucimlrepo in c:\\users\\alaa\\anaconda3\\lib\\site-packages (0.0.7)\n",
      "Requirement already satisfied: pandas>=1.0.0 in c:\\users\\alaa\\anaconda3\\lib\\site-packages (from ucimlrepo) (2.2.2)\n",
      "Requirement already satisfied: certifi>=2020.12.5 in c:\\users\\alaa\\anaconda3\\lib\\site-packages (from ucimlrepo) (2025.1.31)\n",
      "Requirement already satisfied: numpy>=1.26.0 in c:\\users\\alaa\\anaconda3\\lib\\site-packages (from pandas>=1.0.0->ucimlrepo) (1.26.4)\n",
      "Requirement already satisfied: python-dateutil>=2.8.2 in c:\\users\\alaa\\anaconda3\\lib\\site-packages (from pandas>=1.0.0->ucimlrepo) (2.9.0.post0)\n",
      "Requirement already satisfied: pytz>=2020.1 in c:\\users\\alaa\\anaconda3\\lib\\site-packages (from pandas>=1.0.0->ucimlrepo) (2024.1)\n",
      "Requirement already satisfied: tzdata>=2022.7 in c:\\users\\alaa\\anaconda3\\lib\\site-packages (from pandas>=1.0.0->ucimlrepo) (2023.3)\n",
      "Requirement already satisfied: six>=1.5 in c:\\users\\alaa\\anaconda3\\lib\\site-packages (from python-dateutil>=2.8.2->pandas>=1.0.0->ucimlrepo) (1.16.0)\n"
     ]
    }
   ],
   "source": [
    "!pip install ucimlrepo"
   ]
  },
  {
   "cell_type": "code",
   "execution_count": 4,
   "id": "34fd06bd",
   "metadata": {},
   "outputs": [],
   "source": [
    "from ucimlrepo import fetch_ucirepo \n",
    "  \n",
    "# fetch dataset \n",
    "banknote_authentication = fetch_ucirepo(id=267) \n",
    "  \n",
    "# data (as pandas dataframes) \n",
    "x = banknote_authentication.data.features \n",
    "y = banknote_authentication.data.targets "
   ]
  },
  {
   "cell_type": "code",
   "execution_count": 5,
   "id": "373d0128",
   "metadata": {},
   "outputs": [
    {
     "data": {
      "text/plain": [
       "{'uci_id': 267,\n",
       " 'name': 'Banknote Authentication',\n",
       " 'repository_url': 'https://archive.ics.uci.edu/dataset/267/banknote+authentication',\n",
       " 'data_url': 'https://archive.ics.uci.edu/static/public/267/data.csv',\n",
       " 'abstract': 'Data were extracted from images that were taken for the evaluation of an authentication procedure for banknotes.',\n",
       " 'area': 'Computer Science',\n",
       " 'tasks': ['Classification'],\n",
       " 'characteristics': ['Multivariate'],\n",
       " 'num_instances': 1372,\n",
       " 'num_features': 4,\n",
       " 'feature_types': ['Real'],\n",
       " 'demographics': [],\n",
       " 'target_col': ['class'],\n",
       " 'index_col': None,\n",
       " 'has_missing_values': 'no',\n",
       " 'missing_values_symbol': None,\n",
       " 'year_of_dataset_creation': 2012,\n",
       " 'last_updated': 'Fri Feb 16 2024',\n",
       " 'dataset_doi': '10.24432/C55P57',\n",
       " 'creators': ['Volker Lohweg'],\n",
       " 'intro_paper': None,\n",
       " 'additional_info': {'summary': 'Data were extracted from images that were taken from genuine and forged banknote-like specimens.  For digitization, an industrial camera usually used for print inspection was used. The final images have 400x 400 pixels. Due to the object lens and distance to the investigated object gray-scale pictures with a resolution of about 660 dpi were gained. Wavelet Transform tool were used to extract features from images.  ',\n",
       "  'purpose': None,\n",
       "  'funded_by': None,\n",
       "  'instances_represent': None,\n",
       "  'recommended_data_splits': None,\n",
       "  'sensitive_data': None,\n",
       "  'preprocessing_description': None,\n",
       "  'variable_info': '       1. variance of Wavelet Transformed image (continuous) \\r\\n       2. skewness of Wavelet Transformed image (continuous)\\r\\n       3. curtosis of Wavelet Transformed image (continuous)\\r\\n       4. entropy of image (continuous)\\r\\n       5. class (integer) \\r\\n',\n",
       "  'citation': None}}"
      ]
     },
     "execution_count": 5,
     "metadata": {},
     "output_type": "execute_result"
    }
   ],
   "source": [
    "# metadata \n",
    "banknote_authentication.metadata"
   ]
  },
  {
   "cell_type": "code",
   "execution_count": 6,
   "id": "3f803ee5",
   "metadata": {},
   "outputs": [
    {
     "data": {
      "text/html": [
       "<div>\n",
       "<style scoped>\n",
       "    .dataframe tbody tr th:only-of-type {\n",
       "        vertical-align: middle;\n",
       "    }\n",
       "\n",
       "    .dataframe tbody tr th {\n",
       "        vertical-align: top;\n",
       "    }\n",
       "\n",
       "    .dataframe thead th {\n",
       "        text-align: right;\n",
       "    }\n",
       "</style>\n",
       "<table border=\"1\" class=\"dataframe\">\n",
       "  <thead>\n",
       "    <tr style=\"text-align: right;\">\n",
       "      <th></th>\n",
       "      <th>name</th>\n",
       "      <th>role</th>\n",
       "      <th>type</th>\n",
       "      <th>demographic</th>\n",
       "      <th>description</th>\n",
       "      <th>units</th>\n",
       "      <th>missing_values</th>\n",
       "    </tr>\n",
       "  </thead>\n",
       "  <tbody>\n",
       "    <tr>\n",
       "      <th>0</th>\n",
       "      <td>variance</td>\n",
       "      <td>Feature</td>\n",
       "      <td>Continuous</td>\n",
       "      <td>None</td>\n",
       "      <td>variance of Wavelet Transformed image</td>\n",
       "      <td>None</td>\n",
       "      <td>no</td>\n",
       "    </tr>\n",
       "    <tr>\n",
       "      <th>1</th>\n",
       "      <td>skewness</td>\n",
       "      <td>Feature</td>\n",
       "      <td>Continuous</td>\n",
       "      <td>None</td>\n",
       "      <td>skewness of Wavelet Transformed image</td>\n",
       "      <td>None</td>\n",
       "      <td>no</td>\n",
       "    </tr>\n",
       "    <tr>\n",
       "      <th>2</th>\n",
       "      <td>curtosis</td>\n",
       "      <td>Feature</td>\n",
       "      <td>Continuous</td>\n",
       "      <td>None</td>\n",
       "      <td>curtosis of Wavelet Transformed image</td>\n",
       "      <td>None</td>\n",
       "      <td>no</td>\n",
       "    </tr>\n",
       "    <tr>\n",
       "      <th>3</th>\n",
       "      <td>entropy</td>\n",
       "      <td>Feature</td>\n",
       "      <td>Continuous</td>\n",
       "      <td>None</td>\n",
       "      <td>entropy of image</td>\n",
       "      <td>None</td>\n",
       "      <td>no</td>\n",
       "    </tr>\n",
       "    <tr>\n",
       "      <th>4</th>\n",
       "      <td>class</td>\n",
       "      <td>Target</td>\n",
       "      <td>Integer</td>\n",
       "      <td>None</td>\n",
       "      <td>None</td>\n",
       "      <td>None</td>\n",
       "      <td>no</td>\n",
       "    </tr>\n",
       "  </tbody>\n",
       "</table>\n",
       "</div>"
      ],
      "text/plain": [
       "       name     role        type demographic  \\\n",
       "0  variance  Feature  Continuous        None   \n",
       "1  skewness  Feature  Continuous        None   \n",
       "2  curtosis  Feature  Continuous        None   \n",
       "3   entropy  Feature  Continuous        None   \n",
       "4     class   Target     Integer        None   \n",
       "\n",
       "                             description units missing_values  \n",
       "0  variance of Wavelet Transformed image  None             no  \n",
       "1  skewness of Wavelet Transformed image  None             no  \n",
       "2  curtosis of Wavelet Transformed image  None             no  \n",
       "3                       entropy of image  None             no  \n",
       "4                                   None  None             no  "
      ]
     },
     "execution_count": 6,
     "metadata": {},
     "output_type": "execute_result"
    }
   ],
   "source": [
    "# variable information \n",
    "banknote_authentication.variables"
   ]
  },
  {
   "cell_type": "markdown",
   "id": "34d01235",
   "metadata": {},
   "source": [
    "## Data exploration"
   ]
  },
  {
   "cell_type": "code",
   "execution_count": 8,
   "id": "0498c33f",
   "metadata": {},
   "outputs": [
    {
     "data": {
      "text/html": [
       "<div>\n",
       "<style scoped>\n",
       "    .dataframe tbody tr th:only-of-type {\n",
       "        vertical-align: middle;\n",
       "    }\n",
       "\n",
       "    .dataframe tbody tr th {\n",
       "        vertical-align: top;\n",
       "    }\n",
       "\n",
       "    .dataframe thead th {\n",
       "        text-align: right;\n",
       "    }\n",
       "</style>\n",
       "<table border=\"1\" class=\"dataframe\">\n",
       "  <thead>\n",
       "    <tr style=\"text-align: right;\">\n",
       "      <th></th>\n",
       "      <th>variance</th>\n",
       "      <th>skewness</th>\n",
       "      <th>curtosis</th>\n",
       "      <th>entropy</th>\n",
       "      <th>class</th>\n",
       "    </tr>\n",
       "  </thead>\n",
       "  <tbody>\n",
       "    <tr>\n",
       "      <th>0</th>\n",
       "      <td>3.62160</td>\n",
       "      <td>8.6661</td>\n",
       "      <td>-2.80730</td>\n",
       "      <td>-0.44699</td>\n",
       "      <td>0</td>\n",
       "    </tr>\n",
       "    <tr>\n",
       "      <th>1</th>\n",
       "      <td>4.54590</td>\n",
       "      <td>8.1674</td>\n",
       "      <td>-2.45860</td>\n",
       "      <td>-1.46210</td>\n",
       "      <td>0</td>\n",
       "    </tr>\n",
       "    <tr>\n",
       "      <th>2</th>\n",
       "      <td>3.86600</td>\n",
       "      <td>-2.6383</td>\n",
       "      <td>1.92420</td>\n",
       "      <td>0.10645</td>\n",
       "      <td>0</td>\n",
       "    </tr>\n",
       "    <tr>\n",
       "      <th>3</th>\n",
       "      <td>3.45660</td>\n",
       "      <td>9.5228</td>\n",
       "      <td>-4.01120</td>\n",
       "      <td>-3.59440</td>\n",
       "      <td>0</td>\n",
       "    </tr>\n",
       "    <tr>\n",
       "      <th>4</th>\n",
       "      <td>0.32924</td>\n",
       "      <td>-4.4552</td>\n",
       "      <td>4.57180</td>\n",
       "      <td>-0.98880</td>\n",
       "      <td>0</td>\n",
       "    </tr>\n",
       "    <tr>\n",
       "      <th>5</th>\n",
       "      <td>4.36840</td>\n",
       "      <td>9.6718</td>\n",
       "      <td>-3.96060</td>\n",
       "      <td>-3.16250</td>\n",
       "      <td>0</td>\n",
       "    </tr>\n",
       "    <tr>\n",
       "      <th>6</th>\n",
       "      <td>3.59120</td>\n",
       "      <td>3.0129</td>\n",
       "      <td>0.72888</td>\n",
       "      <td>0.56421</td>\n",
       "      <td>0</td>\n",
       "    </tr>\n",
       "    <tr>\n",
       "      <th>7</th>\n",
       "      <td>2.09220</td>\n",
       "      <td>-6.8100</td>\n",
       "      <td>8.46360</td>\n",
       "      <td>-0.60216</td>\n",
       "      <td>0</td>\n",
       "    </tr>\n",
       "    <tr>\n",
       "      <th>8</th>\n",
       "      <td>3.20320</td>\n",
       "      <td>5.7588</td>\n",
       "      <td>-0.75345</td>\n",
       "      <td>-0.61251</td>\n",
       "      <td>0</td>\n",
       "    </tr>\n",
       "    <tr>\n",
       "      <th>9</th>\n",
       "      <td>1.53560</td>\n",
       "      <td>9.1772</td>\n",
       "      <td>-2.27180</td>\n",
       "      <td>-0.73535</td>\n",
       "      <td>0</td>\n",
       "    </tr>\n",
       "  </tbody>\n",
       "</table>\n",
       "</div>"
      ],
      "text/plain": [
       "   variance  skewness  curtosis  entropy  class\n",
       "0   3.62160    8.6661  -2.80730 -0.44699      0\n",
       "1   4.54590    8.1674  -2.45860 -1.46210      0\n",
       "2   3.86600   -2.6383   1.92420  0.10645      0\n",
       "3   3.45660    9.5228  -4.01120 -3.59440      0\n",
       "4   0.32924   -4.4552   4.57180 -0.98880      0\n",
       "5   4.36840    9.6718  -3.96060 -3.16250      0\n",
       "6   3.59120    3.0129   0.72888  0.56421      0\n",
       "7   2.09220   -6.8100   8.46360 -0.60216      0\n",
       "8   3.20320    5.7588  -0.75345 -0.61251      0\n",
       "9   1.53560    9.1772  -2.27180 -0.73535      0"
      ]
     },
     "execution_count": 8,
     "metadata": {},
     "output_type": "execute_result"
    }
   ],
   "source": [
    "df = pd.concat([x, y], axis=1)\n",
    "df.head(10)"
   ]
  },
  {
   "cell_type": "code",
   "execution_count": 9,
   "id": "81022575",
   "metadata": {},
   "outputs": [
    {
     "data": {
      "text/html": [
       "<div>\n",
       "<style scoped>\n",
       "    .dataframe tbody tr th:only-of-type {\n",
       "        vertical-align: middle;\n",
       "    }\n",
       "\n",
       "    .dataframe tbody tr th {\n",
       "        vertical-align: top;\n",
       "    }\n",
       "\n",
       "    .dataframe thead th {\n",
       "        text-align: right;\n",
       "    }\n",
       "</style>\n",
       "<table border=\"1\" class=\"dataframe\">\n",
       "  <thead>\n",
       "    <tr style=\"text-align: right;\">\n",
       "      <th></th>\n",
       "      <th>variance</th>\n",
       "      <th>skewness</th>\n",
       "      <th>curtosis</th>\n",
       "      <th>entropy</th>\n",
       "      <th>class</th>\n",
       "    </tr>\n",
       "  </thead>\n",
       "  <tbody>\n",
       "    <tr>\n",
       "      <th>1362</th>\n",
       "      <td>-2.16680</td>\n",
       "      <td>1.59330</td>\n",
       "      <td>0.045122</td>\n",
       "      <td>-1.67800</td>\n",
       "      <td>1</td>\n",
       "    </tr>\n",
       "    <tr>\n",
       "      <th>1363</th>\n",
       "      <td>-1.16670</td>\n",
       "      <td>-1.42370</td>\n",
       "      <td>2.924100</td>\n",
       "      <td>0.66119</td>\n",
       "      <td>1</td>\n",
       "    </tr>\n",
       "    <tr>\n",
       "      <th>1364</th>\n",
       "      <td>-2.83910</td>\n",
       "      <td>-6.63000</td>\n",
       "      <td>10.484900</td>\n",
       "      <td>-0.42113</td>\n",
       "      <td>1</td>\n",
       "    </tr>\n",
       "    <tr>\n",
       "      <th>1365</th>\n",
       "      <td>-4.50460</td>\n",
       "      <td>-5.81260</td>\n",
       "      <td>10.886700</td>\n",
       "      <td>-0.52846</td>\n",
       "      <td>1</td>\n",
       "    </tr>\n",
       "    <tr>\n",
       "      <th>1366</th>\n",
       "      <td>-2.41000</td>\n",
       "      <td>3.74330</td>\n",
       "      <td>-0.402150</td>\n",
       "      <td>-1.29530</td>\n",
       "      <td>1</td>\n",
       "    </tr>\n",
       "    <tr>\n",
       "      <th>1367</th>\n",
       "      <td>0.40614</td>\n",
       "      <td>1.34920</td>\n",
       "      <td>-1.450100</td>\n",
       "      <td>-0.55949</td>\n",
       "      <td>1</td>\n",
       "    </tr>\n",
       "    <tr>\n",
       "      <th>1368</th>\n",
       "      <td>-1.38870</td>\n",
       "      <td>-4.87730</td>\n",
       "      <td>6.477400</td>\n",
       "      <td>0.34179</td>\n",
       "      <td>1</td>\n",
       "    </tr>\n",
       "    <tr>\n",
       "      <th>1369</th>\n",
       "      <td>-3.75030</td>\n",
       "      <td>-13.45860</td>\n",
       "      <td>17.593200</td>\n",
       "      <td>-2.77710</td>\n",
       "      <td>1</td>\n",
       "    </tr>\n",
       "    <tr>\n",
       "      <th>1370</th>\n",
       "      <td>-3.56370</td>\n",
       "      <td>-8.38270</td>\n",
       "      <td>12.393000</td>\n",
       "      <td>-1.28230</td>\n",
       "      <td>1</td>\n",
       "    </tr>\n",
       "    <tr>\n",
       "      <th>1371</th>\n",
       "      <td>-2.54190</td>\n",
       "      <td>-0.65804</td>\n",
       "      <td>2.684200</td>\n",
       "      <td>1.19520</td>\n",
       "      <td>1</td>\n",
       "    </tr>\n",
       "  </tbody>\n",
       "</table>\n",
       "</div>"
      ],
      "text/plain": [
       "      variance  skewness   curtosis  entropy  class\n",
       "1362  -2.16680   1.59330   0.045122 -1.67800      1\n",
       "1363  -1.16670  -1.42370   2.924100  0.66119      1\n",
       "1364  -2.83910  -6.63000  10.484900 -0.42113      1\n",
       "1365  -4.50460  -5.81260  10.886700 -0.52846      1\n",
       "1366  -2.41000   3.74330  -0.402150 -1.29530      1\n",
       "1367   0.40614   1.34920  -1.450100 -0.55949      1\n",
       "1368  -1.38870  -4.87730   6.477400  0.34179      1\n",
       "1369  -3.75030 -13.45860  17.593200 -2.77710      1\n",
       "1370  -3.56370  -8.38270  12.393000 -1.28230      1\n",
       "1371  -2.54190  -0.65804   2.684200  1.19520      1"
      ]
     },
     "execution_count": 9,
     "metadata": {},
     "output_type": "execute_result"
    }
   ],
   "source": [
    "df.tail(10)"
   ]
  },
  {
   "cell_type": "markdown",
   "id": "8fbfa364",
   "metadata": {},
   "source": [
    "**note: data is sorted by class**"
   ]
  },
  {
   "cell_type": "code",
   "execution_count": 11,
   "id": "25446721",
   "metadata": {},
   "outputs": [
    {
     "name": "stdout",
     "output_type": "stream",
     "text": [
      "<class 'pandas.core.frame.DataFrame'>\n",
      "RangeIndex: 1372 entries, 0 to 1371\n",
      "Data columns (total 5 columns):\n",
      " #   Column    Non-Null Count  Dtype  \n",
      "---  ------    --------------  -----  \n",
      " 0   variance  1372 non-null   float64\n",
      " 1   skewness  1372 non-null   float64\n",
      " 2   curtosis  1372 non-null   float64\n",
      " 3   entropy   1372 non-null   float64\n",
      " 4   class     1372 non-null   int64  \n",
      "dtypes: float64(4), int64(1)\n",
      "memory usage: 53.7 KB\n"
     ]
    }
   ],
   "source": [
    "df.info()"
   ]
  },
  {
   "cell_type": "code",
   "execution_count": 12,
   "id": "85eb90b3",
   "metadata": {},
   "outputs": [
    {
     "data": {
      "text/html": [
       "<div>\n",
       "<style scoped>\n",
       "    .dataframe tbody tr th:only-of-type {\n",
       "        vertical-align: middle;\n",
       "    }\n",
       "\n",
       "    .dataframe tbody tr th {\n",
       "        vertical-align: top;\n",
       "    }\n",
       "\n",
       "    .dataframe thead th {\n",
       "        text-align: right;\n",
       "    }\n",
       "</style>\n",
       "<table border=\"1\" class=\"dataframe\">\n",
       "  <thead>\n",
       "    <tr style=\"text-align: right;\">\n",
       "      <th></th>\n",
       "      <th>variance</th>\n",
       "      <th>skewness</th>\n",
       "      <th>curtosis</th>\n",
       "      <th>entropy</th>\n",
       "      <th>class</th>\n",
       "    </tr>\n",
       "  </thead>\n",
       "  <tbody>\n",
       "    <tr>\n",
       "      <th>count</th>\n",
       "      <td>1372.000000</td>\n",
       "      <td>1372.000000</td>\n",
       "      <td>1372.000000</td>\n",
       "      <td>1372.000000</td>\n",
       "      <td>1372.000000</td>\n",
       "    </tr>\n",
       "    <tr>\n",
       "      <th>mean</th>\n",
       "      <td>0.433735</td>\n",
       "      <td>1.922353</td>\n",
       "      <td>1.397627</td>\n",
       "      <td>-1.191657</td>\n",
       "      <td>0.444606</td>\n",
       "    </tr>\n",
       "    <tr>\n",
       "      <th>std</th>\n",
       "      <td>2.842763</td>\n",
       "      <td>5.869047</td>\n",
       "      <td>4.310030</td>\n",
       "      <td>2.101013</td>\n",
       "      <td>0.497103</td>\n",
       "    </tr>\n",
       "    <tr>\n",
       "      <th>min</th>\n",
       "      <td>-7.042100</td>\n",
       "      <td>-13.773100</td>\n",
       "      <td>-5.286100</td>\n",
       "      <td>-8.548200</td>\n",
       "      <td>0.000000</td>\n",
       "    </tr>\n",
       "    <tr>\n",
       "      <th>25%</th>\n",
       "      <td>-1.773000</td>\n",
       "      <td>-1.708200</td>\n",
       "      <td>-1.574975</td>\n",
       "      <td>-2.413450</td>\n",
       "      <td>0.000000</td>\n",
       "    </tr>\n",
       "    <tr>\n",
       "      <th>50%</th>\n",
       "      <td>0.496180</td>\n",
       "      <td>2.319650</td>\n",
       "      <td>0.616630</td>\n",
       "      <td>-0.586650</td>\n",
       "      <td>0.000000</td>\n",
       "    </tr>\n",
       "    <tr>\n",
       "      <th>75%</th>\n",
       "      <td>2.821475</td>\n",
       "      <td>6.814625</td>\n",
       "      <td>3.179250</td>\n",
       "      <td>0.394810</td>\n",
       "      <td>1.000000</td>\n",
       "    </tr>\n",
       "    <tr>\n",
       "      <th>max</th>\n",
       "      <td>6.824800</td>\n",
       "      <td>12.951600</td>\n",
       "      <td>17.927400</td>\n",
       "      <td>2.449500</td>\n",
       "      <td>1.000000</td>\n",
       "    </tr>\n",
       "  </tbody>\n",
       "</table>\n",
       "</div>"
      ],
      "text/plain": [
       "          variance     skewness     curtosis      entropy        class\n",
       "count  1372.000000  1372.000000  1372.000000  1372.000000  1372.000000\n",
       "mean      0.433735     1.922353     1.397627    -1.191657     0.444606\n",
       "std       2.842763     5.869047     4.310030     2.101013     0.497103\n",
       "min      -7.042100   -13.773100    -5.286100    -8.548200     0.000000\n",
       "25%      -1.773000    -1.708200    -1.574975    -2.413450     0.000000\n",
       "50%       0.496180     2.319650     0.616630    -0.586650     0.000000\n",
       "75%       2.821475     6.814625     3.179250     0.394810     1.000000\n",
       "max       6.824800    12.951600    17.927400     2.449500     1.000000"
      ]
     },
     "execution_count": 12,
     "metadata": {},
     "output_type": "execute_result"
    }
   ],
   "source": [
    "df.describe()"
   ]
  },
  {
   "cell_type": "code",
   "execution_count": 13,
   "id": "89bc63e3",
   "metadata": {},
   "outputs": [
    {
     "data": {
      "text/plain": [
       "variance    0\n",
       "skewness    0\n",
       "curtosis    0\n",
       "entropy     0\n",
       "class       0\n",
       "dtype: int64"
      ]
     },
     "execution_count": 13,
     "metadata": {},
     "output_type": "execute_result"
    }
   ],
   "source": [
    "# Check for missing values\n",
    "df.isna().sum()"
   ]
  },
  {
   "cell_type": "code",
   "execution_count": 14,
   "id": "2dbad2b3",
   "metadata": {},
   "outputs": [
    {
     "data": {
      "text/plain": [
       "class\n",
       "0    762\n",
       "1    610\n",
       "Name: count, dtype: int64"
      ]
     },
     "execution_count": 14,
     "metadata": {},
     "output_type": "execute_result"
    }
   ],
   "source": [
    "df[\"class\"].value_counts()"
   ]
  },
  {
   "cell_type": "markdown",
   "id": "701bafa8",
   "metadata": {},
   "source": [
    "**note: data is nearly balanced**"
   ]
  },
  {
   "cell_type": "code",
   "execution_count": 16,
   "id": "fcf4f890",
   "metadata": {},
   "outputs": [
    {
     "data": {
      "image/png": "[encoded data removed]",
      "text/plain": [
       "<Figure size 1500x1500 with 6 Axes>"
      ]
     },
     "metadata": {},
     "output_type": "display_data"
    }
   ],
   "source": [
    "from matplotlib import pyplot as plt\n",
    "df.hist(bins=20, figsize=(15, 15))\n",
    "plt.show()"
   ]
  },
  {
   "cell_type": "code",
   "execution_count": 17,
   "id": "fa64c414",
   "metadata": {},
   "outputs": [
    {
     "data": {
      "text/plain": [
       "<Axes: >"
      ]
     },
     "execution_count": 17,
     "metadata": {},
     "output_type": "execute_result"
    },
    {
     "data": {
      "image/png": "[encoded data removed]",
      "text/plain": [
       "<Figure size 1000x800 with 2 Axes>"
      ]
     },
     "metadata": {},
     "output_type": "display_data"
    }
   ],
   "source": [
    "import seaborn as sns\n",
    "plt.figure(figsize=(10, 8))\n",
    "sns.heatmap(df.corr(), annot=True, fmt=\".2f\", cmap=\"Blues\", center=0)"
   ]
  },
  {
   "cell_type": "markdown",
   "id": "91333a99",
   "metadata": {},
   "source": [
    "**note: variance is the most correlated feature with class**"
   ]
  },
  {
   "cell_type": "markdown",
   "id": "9d71aafd",
   "metadata": {},
   "source": [
    "## Data preprocessing"
   ]
  },
  {
   "cell_type": "code",
   "execution_count": 20,
   "id": "bd48411d-a399-495a-8c4c-e6ff5474880e",
   "metadata": {},
   "outputs": [],
   "source": [
    "# Convert labels from {0,1} to {-1, +1} for SVM\n",
    "y = np.where(y == 0, -1, 1)\n",
    "y = y.reshape(-1)          # OR"
   ]
  },
  {
   "cell_type": "code",
   "execution_count": 21,
   "id": "89b21d7e-24d5-47d2-88a0-fb921d62f431",
   "metadata": {},
   "outputs": [],
   "source": [
    "#normalize features:\n",
    "x= (x - np.mean(x, axis=0)) / np.std(x, axis=0)\n",
    "x = x.to_numpy()\n"
   ]
  },
  {
   "cell_type": "code",
   "execution_count": 22,
   "id": "27fa418a",
   "metadata": {},
   "outputs": [
    {
     "data": {
      "image/png": "[encoded data removed]",
      "text/plain": [
       "<Figure size 1000x600 with 1 Axes>"
      ]
     },
     "metadata": {},
     "output_type": "display_data"
    }
   ],
   "source": [
    "plt.figure(figsize=(10, 6))\n",
    "\n",
    "# Plot points for each class\n",
    "plt.scatter(x[:, 0][y == -1], x[:, 1][y == -1], color='red', label='Class 0', alpha=0.6)\n",
    "plt.scatter(x[:, 0][y == 1], x[:, 1][y == 1], color='blue', label='Class 1', alpha=0.6)\n",
    "\n",
    "# Add labels and legend\n",
    "plt.xlabel('Feature 1')\n",
    "plt.ylabel('Feature 2')\n",
    "plt.title('Class Distribution')\n",
    "plt.legend()\n",
    "plt.show()"
   ]
  },
  {
   "cell_type": "code",
   "execution_count": 23,
   "id": "b5e9a3d8-9ec8-4f2d-8365-7c22d535e677",
   "metadata": {},
   "outputs": [
    {
     "data": {
      "text/plain": [
       "array([[ 1.12180565,  1.14945512, -0.97597007,  0.35456135],\n",
       "       [ 1.44706568,  1.06445293, -0.89503626, -0.12876744],\n",
       "       [ 1.20780971, -0.77735215,  0.12221838,  0.61807317],\n",
       "       ...,\n",
       "       [-1.47235682, -2.62164576,  3.75901744, -0.75488418],\n",
       "       [-1.40669251, -1.75647104,  2.552043  , -0.04315848],\n",
       "       [-1.04712236, -0.43982168,  0.29861555,  1.1364645 ]])"
      ]
     },
     "execution_count": 23,
     "metadata": {},
     "output_type": "execute_result"
    }
   ],
   "source": [
    "x"
   ]
  },
  {
   "cell_type": "code",
   "execution_count": 24,
   "id": "c726bfc1",
   "metadata": {},
   "outputs": [
    {
     "data": {
      "text/plain": [
       "array([-1, -1, -1, ...,  1,  1,  1])"
      ]
     },
     "execution_count": 24,
     "metadata": {},
     "output_type": "execute_result"
    }
   ],
   "source": [
    "y"
   ]
  },
  {
   "cell_type": "markdown",
   "id": "51e01918",
   "metadata": {},
   "source": [
    "## Train, test, validation split "
   ]
  },
  {
   "cell_type": "code",
   "execution_count": 26,
   "id": "582edacd",
   "metadata": {},
   "outputs": [],
   "source": [
    "def train_test_val_split(x,y, test_ratio, val_ratio, random_seed):\n",
    "    \"\"\"\n",
    "    Function to split the dataset into training, testing, and validation sets,\n",
    "    first shuffling the data indices, then splitting it according to the specified\n",
    "    test and validation ratios.\n",
    "    \"\"\"\n",
    "    np.random.seed(random_seed)\n",
    "    indices = np.arange(x.shape[0])\n",
    "    np.random.shuffle(indices)\n",
    "\n",
    "    x = x[indices]\n",
    "    y = y[indices]\n",
    "\n",
    "    n_total = len(x)\n",
    "    n_test = int(test_ratio* n_total)\n",
    "    n_val = int(val_ratio* n_total)\n",
    "    n_train = n_total - n_test - n_val\n",
    "    x_train = x[:n_train]\n",
    "    y_train = y[:n_train]\n",
    "\n",
    "    x_val = x[n_train:n_train + n_val]\n",
    "    y_val = y[n_train:n_train + n_val]\n",
    "\n",
    "    x_test = x[n_train + n_val:]\n",
    "    y_test = y[n_train + n_val:]\n",
    "\n",
    "    return x_train, y_train, x_val, y_val, x_test, y_test\n",
    "\n",
    "\n"
   ]
  },
  {
   "cell_type": "code",
   "execution_count": 27,
   "id": "2b616465",
   "metadata": {},
   "outputs": [],
   "source": [
    "x_train, y_train, x_val, y_val, x_test, y_test = train_test_val_split(x,y, test_ratio=0.2, val_ratio=0.2, random_seed=42)"
   ]
  },
  {
   "cell_type": "code",
   "execution_count": 28,
   "id": "06f6927f",
   "metadata": {},
   "outputs": [
    {
     "name": "stdout",
     "output_type": "stream",
     "text": [
      "train data size: 824\n",
      "validation data size: 274\n",
      "test data size: 274\n"
     ]
    }
   ],
   "source": [
    "print(\"train data size:\", len(x_train))\n",
    "print(\"validation data size:\", len(x_val))\n",
    "print(\"test data size:\", len(x_test))"
   ]
  },
  {
   "cell_type": "markdown",
   "id": "8aac8e6e",
   "metadata": {},
   "source": [
    "## SVM (support vector machine) model from scratch "
   ]
  },
  {
   "cell_type": "code",
   "execution_count": 30,
   "id": "1b47ea77",
   "metadata": {},
   "outputs": [],
   "source": [
    "class KernelSVMFromScratch:\n",
    "    def __init__(self, lambda_param=0.01, learning_rate=0.01, max_iter=1000, optimizer='subgradient', delta=1.0, kernel='linear', degree=3, gamma=1.0):\n",
    "        \"\"\"\n",
    "        Initialize the Kernel SVM model with the specified parameters.\n",
    "        \"\"\"\n",
    "        self.lambda_param = lambda_param\n",
    "        self.learning_rate = learning_rate\n",
    "        self.max_iter = max_iter\n",
    "        self.optimizer = optimizer\n",
    "        self.delta = delta\n",
    "        self.kernel = kernel\n",
    "        self.degree = degree  # For polynomial kernel\n",
    "        self.gamma = gamma    # For RBF kernel\n",
    "        self.alpha = None     # Lagrange multipliers\n",
    "        self.b = 0            # Bias\n",
    "        self.support_vectors = None\n",
    "        self.support_labels = None\n",
    "\n",
    "    def _kernel_function(self, x1, x2):\n",
    "        \"\"\"\n",
    "        Compute the kernel between two samples.\n",
    "        \"\"\"\n",
    "        if self.kernel == 'linear':\n",
    "            return np.dot(x1, x2)\n",
    "        elif self.kernel == 'polynomial':\n",
    "            return (np.dot(x1, x2) + 1) ** self.degree\n",
    "        elif self.kernel == 'rbf':\n",
    "            return np.exp(-self.gamma * np.linalg.norm(x1 - x2) ** 2)\n",
    "        else:\n",
    "            raise ValueError(\"Unsupported kernel type\")\n",
    "\n",
    "    def _compute_kernel_matrix(self, X):\n",
    "        \"\"\"\n",
    "        Compute the kernel matrix for the dataset.\n",
    "        \"\"\"\n",
    "        n_samples = X.shape[0]\n",
    "        kernel_matrix = np.zeros((n_samples, n_samples))\n",
    "        for i in range(n_samples):\n",
    "            for j in range(n_samples):\n",
    "                kernel_matrix[i, j] = self._kernel_function(X[i], X[j])\n",
    "        return kernel_matrix\n",
    "\n",
    "    def fit(self, X_train, y_train):\n",
    "        \"\"\"\n",
    "        Train the Kernel SVM model using gradient or subgradient descent.\n",
    "        \"\"\"\n",
    "        n_samples = X_train.shape[0]\n",
    "        self.alpha = np.zeros(n_samples)\n",
    "        kernel_matrix = self._compute_kernel_matrix(X_train)\n",
    "\n",
    "        for epoch in range(self.max_iter):\n",
    "            for i in range(n_samples):\n",
    "                margin = y_train[i] * (np.sum(self.alpha * y_train * kernel_matrix[i]) + self.b)\n",
    "\n",
    "                # Subgradient descent\n",
    "                if self.optimizer == 'subgradient':\n",
    "                    if margin >= 1:\n",
    "                        d_alpha = 0\n",
    "                        d_b = 0\n",
    "                    else:\n",
    "                        d_alpha = -y_train[i]\n",
    "                        d_b = -y_train[i]\n",
    "\n",
    "                # Gradient descent with smooth hinge loss\n",
    "                elif self.optimizer == 'gradient':\n",
    "                    if margin >= self.delta:\n",
    "                        d_alpha = 0\n",
    "                        d_b = 0\n",
    "                    elif 0 < margin < self.delta:\n",
    "                        d_alpha = -y_train[i] * (self.delta - margin) / self.delta\n",
    "                        d_b = -y_train[i] * (self.delta - margin) / self.delta\n",
    "                    else:\n",
    "                        d_alpha = -y_train[i]\n",
    "                        d_b = -y_train[i]\n",
    "\n",
    "                # Update alpha and bias\n",
    "                self.alpha[i] -= self.learning_rate * d_alpha\n",
    "                self.b -= self.learning_rate * d_b\n",
    "\n",
    "        # Store support vectors\n",
    "        self.support_vectors = X_train[self.alpha > 1e-5]\n",
    "        self.support_labels = y_train[self.alpha > 1e-5]\n",
    "        self.alpha = self.alpha[self.alpha > 1e-5]\n",
    "\n",
    "    def predict(self, X):\n",
    "        \"\"\"\n",
    "        Predict the labels for the given data using the trained model.\n",
    "        \"\"\"\n",
    "        y_pred = []\n",
    "        for x in X:\n",
    "            decision = np.sum(self.alpha * self.support_labels * np.array([self._kernel_function(x, sv) for sv in self.support_vectors])) + self.b\n",
    "            y_pred.append(np.sign(decision))\n",
    "        return np.array(y_pred)\n",
    "\n",
    "    def score(self, X, y):\n",
    "        \"\"\"\n",
    "        Compute the accuracy of the model on the given data.\n",
    "        \"\"\"\n",
    "        preds = self.predict(X)\n",
    "        return np.mean(preds == y)"
   ]
  },
  {
   "cell_type": "code",
   "execution_count": 33,
   "id": "c6ee3fcc-058e-4188-8640-35f1e321d3bb",
   "metadata": {},
   "outputs": [],
   "source": [
    "def evaluate_svm(X_train, y_train, X_val, y_val, config=None):\n",
    "    \"\"\"\n",
    "    Helper function to evaluate the SVM model with given hyperparameters.\n",
    "    Includes a default configuration for quick testing.\n",
    "    \"\"\"\n",
    "    if config is None:\n",
    "        config = {\n",
    "            'lambda_param': 0.01,\n",
    "            'learning_rate': 0.01,\n",
    "            'max_iter': 100,\n",
    "            'optimizer': 'subgradient',\n",
    "            'delta': 1.0,\n",
    "            'kernel': 'linear',\n",
    "            'degree': 3,\n",
    "            'gamma': 1.0\n",
    "        }\n",
    "\n",
    "    # Initialize and train the SVM\n",
    "    svm = KernelSVMFromScratch(\n",
    "        lambda_param=config['lambda_param'],\n",
    "        learning_rate=config['learning_rate'],\n",
    "        max_iter=config['max_iter'],\n",
    "        optimizer=config['optimizer'],\n",
    "        delta=config.get('delta', 1.0),\n",
    "        kernel=config['kernel'],\n",
    "        degree=config.get('degree', 3),\n",
    "        gamma=config.get('gamma', 1.0)\n",
    "    )\n",
    "    svm.fit(X_train, y_train)\n",
    "    score = svm.score(X_val, y_val)\n",
    "    print(f\"optimizer: {config['optimizer']}, λ: {config['lambda_param']}, \"\n",
    "          f\"learning_rate: {config['learning_rate']}, max_iter: {config['max_iter']}, \"\n",
    "          f\"delta: {config.get('delta', 1.0)}, kernel: {config['kernel']}, \"\n",
    "          f\"degree: {config.get('degree', 3)}, gamma: {config.get('gamma', 1.0)}, \"\n",
    "          f\"score (Accuracy): {score}\")\n",
    "    return score\n"
   ]
  },
  {
   "cell_type": "code",
   "execution_count": 35,
   "id": "0ce61f87",
   "metadata": {},
   "outputs": [],
   "source": [
    "def find_best_hyperparameters(X_train, y_train, X_val, y_val, optimizer='subgradient', n_iter=30):\n",
    "    \"\"\"\n",
    "    Perform random search to find the best hyperparameters for the SVM model.\n",
    "    Includes kernel-specific parameters for kernelized SVM.\n",
    "    \"\"\"\n",
    "    # Define hyperparameter options\n",
    "    lambda_candidates = [0.001, 0.01, 0.1]\n",
    "    learning_rates = [0.001, 0.01, 0.1]\n",
    "    max_iters = [500, 1000]\n",
    "    delta_candidates = [0.5, 1.0, 1.5] if optimizer == 'gradient' else [None]\n",
    "    kernels = ['linear', 'polynomial', 'rbf']\n",
    "    degrees = [2, 3, 4]\n",
    "    gammas = [0.1, 1, 10]\n",
    "\n",
    "    best_score = -np.inf\n",
    "    best_config = {}\n",
    "\n",
    "    for _ in range(n_iter):\n",
    "        kernel = random.choice(kernels)\n",
    "        lam = random.choice(lambda_candidates)\n",
    "        lr = random.choice(learning_rates)\n",
    "        max_iter = random.choice(max_iters)\n",
    "        delta = random.choice(delta_candidates)\n",
    "\n",
    "        config = {\n",
    "            'lambda_param': lam,\n",
    "            'learning_rate': lr,\n",
    "            'max_iter': max_iter,\n",
    "            'optimizer': optimizer,\n",
    "            'delta': delta if delta is not None else 1.0,\n",
    "            'kernel': kernel\n",
    "        }\n",
    "\n",
    "        if kernel == 'polynomial':\n",
    "            config['degree'] = random.choice(degrees)\n",
    "        elif kernel == 'rbf':\n",
    "            config['gamma'] = random.choice(gammas)\n",
    "\n",
    "        score = evaluate_svm(X_train, y_train, X_val, y_val, config)\n",
    "        if score > best_score:\n",
    "            best_score = score\n",
    "            best_config = config\n",
    "\n",
    "    return best_config, best_score\n"
   ]
  },
  {
   "cell_type": "code",
   "execution_count": 54,
   "id": "568d8f04-7146-4ed2-bdca-f51ec1ee4a65",
   "metadata": {},
   "outputs": [
    {
     "name": "stdout",
     "output_type": "stream",
     "text": [
      "optimizer: subgradient, λ: 0.1, learning_rate: 0.001, max_iter: 500, delta: 1.0, kernel: polynomial, degree: 2, gamma: 1.0, score (Accuracy): 0.5547445255474452\n",
      "optimizer: subgradient, λ: 0.1, learning_rate: 0.1, max_iter: 500, delta: 1.0, kernel: polynomial, degree: 3, gamma: 1.0, score (Accuracy): 0.718978102189781\n",
      "optimizer: subgradient, λ: 0.1, learning_rate: 0.01, max_iter: 500, delta: 1.0, kernel: polynomial, degree: 2, gamma: 1.0, score (Accuracy): 0.5547445255474452\n"
     ]
    }
   ],
   "source": [
    "#run Random Search for Subgradient Descent\n",
    "best_config_subgrad, best_val_score_subgrad = find_best_hyperparameters(x_train, y_train, x_val, y_val, optimizer='subgradient', n_iter=3)"
   ]
  },
  {
   "cell_type": "code",
   "execution_count": 55,
   "id": "eabea5d8",
   "metadata": {},
   "outputs": [
    {
     "name": "stdout",
     "output_type": "stream",
     "text": [
      "optimizer: gradient, λ: 0.001, learning_rate: 0.1, max_iter: 500, delta: 0.5, kernel: rbf, degree: 3, gamma: 1, score (Accuracy): 0.5547445255474452\n",
      "optimizer: gradient, λ: 0.01, learning_rate: 0.001, max_iter: 1000, delta: 1.0, kernel: polynomial, degree: 2, gamma: 1.0, score (Accuracy): 0.5547445255474452\n",
      "optimizer: gradient, λ: 0.1, learning_rate: 0.001, max_iter: 500, delta: 0.5, kernel: rbf, degree: 3, gamma: 1, score (Accuracy): 0.5547445255474452\n"
     ]
    }
   ],
   "source": [
    "#run Random Search for Gradient Descent (Smooth Hinge)\n",
    "best_config_grad, best_val_score_grad = find_best_hyperparameters(x_train, y_train, x_val, y_val, optimizer='gradient', n_iter=3)"
   ]
  },
  {
   "cell_type": "code",
   "execution_count": 56,
   "id": "9bfc19c6",
   "metadata": {},
   "outputs": [],
   "source": [
    "#pick the best optimizer and config\n",
    "if best_val_score_subgrad > best_val_score_grad:\n",
    "    best_config = best_config_subgrad\n",
    "    best_optimizer = 'Subgradient Descent'\n",
    "else:\n",
    "    best_config = best_config_grad\n",
    "    best_optimizer = 'Gradient Descent (Smoothed Hinge)'\n"
   ]
  },
  {
   "cell_type": "code",
   "execution_count": 60,
   "id": "a2bb53ac",
   "metadata": {},
   "outputs": [],
   "source": [
    "#training the final model with best hyperparameters\n",
    "final_svm = KernelSVMFromScratch(**best_config)\n",
    "final_svm.fit(x_train, y_train)\n",
    "test_accuracy = final_svm.score(x_test, y_test)"
   ]
  },
  {
   "cell_type": "code",
   "execution_count": 61,
   "id": "0bb244d8",
   "metadata": {},
   "outputs": [
    {
     "name": "stdout",
     "output_type": "stream",
     "text": [
      "Best Hyperparameters: {'lambda_param': 0.1, 'learning_rate': 0.1, 'max_iter': 500, 'optimizer': 'subgradient', 'delta': 1.0, 'kernel': 'polynomial', 'degree': 3}\n",
      "Best Validation Score: 0.7190\n",
      "Test Accuracy: 0.6569\n"
     ]
    }
   ],
   "source": [
    "print(f\"Best Hyperparameters: {best_config}\")\n",
    "print(f\"Best Validation Score: {best_val_score_subgrad if best_optimizer == 'Subgradient Descent' else best_val_score_grad:.4f}\")\n",
    "print(f\"Test Accuracy: {test_accuracy:.4f}\")"
   ]
  },
  {
   "cell_type": "code",
   "execution_count": 62,
   "id": "915acb2d",
   "metadata": {},
   "outputs": [
    {
     "name": "stdout",
     "output_type": "stream",
     "text": [
      "\n",
      "Best Hyperparameters for Subgradient Descent:\n",
      "  Lambda: 0.1\n",
      "  Learning Rate: 0.1\n",
      "  Max Iterations: 500\n",
      "  Kernel: polynomial\n",
      "  Degree: 3\n",
      "  Validation Score: 0.7190\n"
     ]
    }
   ],
   "source": [
    "# Print best hyperparameters for both methods\n",
    "print(\"\\nBest Hyperparameters for Subgradient Descent:\")\n",
    "print(f\"  Lambda: {best_config_subgrad['lambda_param']}\")\n",
    "print(f\"  Learning Rate: {best_config_subgrad['learning_rate']}\")\n",
    "print(f\"  Max Iterations: {best_config_subgrad['max_iter']}\")\n",
    "print(f\"  Kernel: {best_config_subgrad['kernel']}\")\n",
    "print(f\"  Degree: {best_config_subgrad['degree']}\")\n",
    "print(f\"  Validation Score: {best_val_score_subgrad:.4f}\")"
   ]
  },
  {
   "cell_type": "code",
   "execution_count": 64,
   "id": "c8ef66b9",
   "metadata": {},
   "outputs": [
    {
     "name": "stdout",
     "output_type": "stream",
     "text": [
      "\n",
      "Best Hyperparameters for Gradient Descent (Smoothed Hinge):\n",
      "  Lambda: 0.001\n",
      "  Learning Rate: 0.1\n",
      "  Max Iterations: 500\n",
      "  Delta: 0.5\n",
      "  Kernel: rbf\n",
      "  Gamma: 1\n",
      "  Validation Score: 0.5547\n"
     ]
    }
   ],
   "source": [
    "print(\"\\nBest Hyperparameters for Gradient Descent (Smoothed Hinge):\")\n",
    "print(f\"  Lambda: {best_config_grad['lambda_param']}\")\n",
    "print(f\"  Learning Rate: {best_config_grad['learning_rate']}\")\n",
    "print(f\"  Max Iterations: {best_config_grad['max_iter']}\")\n",
    "print(f\"  Delta: {best_config_grad['delta']}\")\n",
    "print(f\"  Kernel: {best_config_grad['kernel']}\")\n",
    "\n",
    "# Only print degree if it's a polynomial kernel\n",
    "if best_config_grad['kernel'] == 'polynomial':\n",
    "    print(f\"  Degree: {best_config_grad.get('degree', 'N/A')}\")\n",
    "\n",
    "# Only print gamma if it's an RBF kernel\n",
    "if best_config_grad['kernel'] == 'rbf':\n",
    "    print(f\"  Gamma: {best_config_grad.get('gamma', 'N/A')}\")\n",
    "\n",
    "print(f\"  Validation Score: {best_val_score_grad:.4f}\")\n"
   ]
  },
  {
   "cell_type": "markdown",
   "id": "a83d5453",
   "metadata": {},
   "source": [
    "## Training on 500 epochs with subgradient "
   ]
  },
  {
   "cell_type": "code",
   "execution_count": null,
   "id": "5a5a6f1f",
   "metadata": {},
   "outputs": [],
   "source": [
    "svm_subgradient = KernelSVMFromScratch(**best_config_subgrad)\n",
    "# Train the model\n",
    "train_losses_sub, train_accuracies_sub, val_accuracies_sub, val_losses_sub, test_accuracies_sub, test_losses_sub = svm_subgradient.fit(x_train, y_train, x_val, y_val, x_test, y_test)\n",
    "\n",
    "# Print the epoch-wise info\n",
    "for epoch in range(svm_subgradient.max_iter):\n",
    "    train_loss_sub = train_losses_sub[epoch]\n",
    "    val_loss_sub = val_losses_sub[epoch] if val_losses_sub is not None else \"N/A\"\n",
    "    train_acc_sub = train_accuracies_sub[epoch]\n",
    "    val_acc_sub = val_accuracies_sub[epoch] if val_accuracies_sub is not None else \"N/A\"\n",
    "    \n",
    "    print(f\"Epoch {epoch+1} | Train Loss: {train_loss_sub:.4f} | Train Acc: {train_acc_sub:.4f} | \"\n",
    "          f\"Val Acc: {val_acc_sub if val_acc_sub == 'N/A' else f'{val_acc_sub:.4f}'} | \"\n",
    "          f\"Val Loss: {val_loss_sub if val_loss_sub == 'N/A' else f'{val_loss_sub:.4f}'}\")"
   ]
  },
  {
   "cell_type": "markdown",
   "id": "43a6e663",
   "metadata": {},
   "source": [
    "**after 500 epochs, train loss decrased from 0.71 to 0.03**\n",
    "\n",
    "**also, validation loss decreased from 0.4 to 0.04**\n",
    "\n",
    "**train accuarcy increased from 85% to 98%**\n",
    "\n",
    "**validation accuarcy increased from 87% to 94%**\n"
   ]
  },
  {
   "cell_type": "markdown",
   "id": "d6a69d23",
   "metadata": {},
   "source": [
    "### Loss curve for train & validation with subgradient optimizer "
   ]
  },
  {
   "cell_type": "code",
   "execution_count": null,
   "id": "3ba79417",
   "metadata": {},
   "outputs": [],
   "source": [
    "import matplotlib.pyplot as plt\n",
    "\n",
    "# Plot the loss curve\n",
    "plt.figure(figsize=(10, 6))\n",
    "plt.plot(train_losses_sub, label='Training Loss', color='blue')\n",
    "if val_accuracies_sub is not None:\n",
    "    plt.plot(val_losses_sub, label='Validation Loss', color='orange')\n",
    "\n",
    "plt.title('Loss Curve with subgradient descent')\n",
    "plt.xlabel('Epochs')\n",
    "plt.ylabel('Loss')\n",
    "plt.legend()\n",
    "plt.show()"
   ]
  },
  {
   "cell_type": "markdown",
   "id": "ade3940d",
   "metadata": {},
   "source": [
    "### Accuarcy curve for train & validation with subgradient optimizer "
   ]
  },
  {
   "cell_type": "code",
   "execution_count": null,
   "id": "e9859799",
   "metadata": {},
   "outputs": [],
   "source": [
    "import matplotlib.pyplot as plt\n",
    "\n",
    "# Plot the accuracy curve\n",
    "plt.figure(figsize=(10, 6))\n",
    "plt.plot(train_accuracies_sub, label='Training Accuracy', color='blue')\n",
    "if val_accuracies_sub is not None:\n",
    "    plt.plot(val_accuracies_sub, label='Validation Accuracy', color='orange')\n",
    "\n",
    "plt.title('Accuracy Curve for subgradient')\n",
    "plt.xlabel('Epochs')\n",
    "plt.ylabel('Accuracy')\n",
    "plt.legend()\n",
    "plt.show()"
   ]
  },
  {
   "cell_type": "markdown",
   "id": "afc473e4",
   "metadata": {},
   "source": [
    "## Training 500 epoch with gradient decsent"
   ]
  },
  {
   "cell_type": "code",
   "execution_count": null,
   "id": "c66f0a39",
   "metadata": {},
   "outputs": [],
   "source": [
    "svm_gradient = SVMFromScratch(**best_config_grad)\n",
    "\n",
    "# Train the model\n",
    "train_losses_grad, train_accuracies_grad, val_accuracies_grad, val_losses_grad,test_accuracies_grad, test_losses_grad= svm_gradient.fit(x_train, y_train, x_val, y_val, x_test, y_test) \n",
    "\n",
    "# Print the epoch-wise info\n",
    "for epoch in range(svm_gradient.max_iter):\n",
    "    train_loss_grad = train_losses_grad[epoch]\n",
    "    val_loss_grad =val_losses_grad[epoch]\n",
    "    train_acc_grad = train_accuracies_grad[epoch]\n",
    "    val_acc_grad = val_accuracies_grad[epoch] if val_accuracies_grad is not None else \"N/A\"\n",
    "    \n",
    "    print(f\"Epoch {epoch+1} | train_Loss: {train_loss_grad:.4f} | Train Acc: {train_acc_grad:.4f} | Val Acc: {val_acc_grad if val_acc_grad == 'N/A' else f'{val_acc_grad:.4f}'} | val loss: {val_loss_grad if val_acc_grad == 'N/A' else f'{val_loss_grad:.4f}'}\")\n",
    "\n"
   ]
  },
  {
   "cell_type": "markdown",
   "id": "46fa4109",
   "metadata": {},
   "source": [
    "**notice here the loss in both train and validation in gradient method is more than that in subgradient method, accuracy in gradient is slightly greater than that it subgradient**"
   ]
  },
  {
   "cell_type": "markdown",
   "id": "8fdab34f",
   "metadata": {},
   "source": [
    "### Loss curve for train & validation with gradient optimizer "
   ]
  },
  {
   "cell_type": "code",
   "execution_count": null,
   "id": "ecfdeafc",
   "metadata": {},
   "outputs": [],
   "source": [
    "import matplotlib.pyplot as plt\n",
    "\n",
    "# Plot the loss curve\n",
    "plt.figure(figsize=(10, 6))\n",
    "plt.plot(train_losses_grad, label='Training Loss', color='blue')\n",
    "if val_accuracies_grad is not None:\n",
    "    plt.plot(val_losses_grad, label='Validation Loss', color='orange')\n",
    "\n",
    "plt.title('Loss Curve with gradient descent')\n",
    "plt.xlabel('Epochs')\n",
    "plt.ylabel('Loss')\n",
    "plt.legend()\n",
    "plt.show()"
   ]
  },
  {
   "cell_type": "code",
   "execution_count": null,
   "id": "d461fadf",
   "metadata": {},
   "outputs": [],
   "source": [
    "import matplotlib.pyplot as plt\n",
    "\n",
    "# Plot the accuracy curve\n",
    "plt.figure(figsize=(10, 6))\n",
    "plt.plot(train_accuracies_grad, label='Training Accuracy', color='blue')\n",
    "if val_accuracies_grad is not None:\n",
    "    plt.plot(val_accuracies_grad, label='Validation Accuracy', color='orange')\n",
    "\n",
    "plt.title('Accuracy Curve for gradient')\n",
    "plt.xlabel('Epochs')\n",
    "plt.ylabel('Accuracy')\n",
    "plt.legend()\n",
    "plt.show()"
   ]
  },
  {
   "cell_type": "markdown",
   "id": "8b00c799",
   "metadata": {},
   "source": [
    "## model testing with subgradient"
   ]
  },
  {
   "cell_type": "code",
   "execution_count": null,
   "id": "44e6720e",
   "metadata": {},
   "outputs": [],
   "source": [
    "svm_subgradient = SVMFromScratch(**best_config_subgrad)\n",
    "\n",
    "# Train the model\n",
    "train_losses_sub, train_accuracies_sub, val_accuracies_sub, val_losses_sub,test_accuracies_sub, test_losses_sub= svm_subgradient.fit(x_train, y_train, x_val, y_val, x_test, y_test) \n",
    "\n",
    "# Print the epoch-wise info\n",
    "for epoch in range(svm_subgradient.max_iter):\n",
    "    test_loss_sub = test_losses_sub[epoch]\n",
    "    test_acc_sub = test_accuracies_sub[epoch]\n",
    "    \n",
    "    print(f\"Epoch {epoch+1} | test_Loss: {test_loss_sub:.4f} | Test Acc: {test_acc_sub:.4f} \")\n",
    "\n"
   ]
  },
  {
   "cell_type": "markdown",
   "id": "fedb3592",
   "metadata": {},
   "source": [
    "**with subgradient, test loss decreased to 0.02**"
   ]
  },
  {
   "cell_type": "markdown",
   "id": "e02caec0",
   "metadata": {},
   "source": [
    "## Model testing with gradient"
   ]
  },
  {
   "cell_type": "code",
   "execution_count": null,
   "id": "3648cac0",
   "metadata": {},
   "outputs": [],
   "source": [
    "svm_gradient = SVMFromScratch(**best_config_grad)\n",
    "\n",
    "# Train the model\n",
    "train_losses_grad, train_accuracies_grad, val_accuracies_grad, val_losses_grad,test_accuracies_grad, test_losses_grad= svm_gradient.fit(x_train, y_train, x_val, y_val, x_test, y_test) \n",
    "\n",
    "# Print the epoch-wise info\n",
    "for epoch in range(svm_gradient.max_iter):\n",
    "    test_acc_grad = test_accuracies_grad[epoch]\n",
    "    test_loss_grad = test_losses_grad[epoch]\n",
    "\n",
    "    \n",
    "    print(f\"Epoch {epoch+1} | test_Loss: {test_loss_grad:.4f} | Test Acc: {test_acc_grad:.4f} \")\n",
    "\n"
   ]
  },
  {
   "cell_type": "markdown",
   "id": "bee3e1c0",
   "metadata": {},
   "source": [
    "**test loss increases when using gradient descent as an optimizer**"
   ]
  },
  {
   "cell_type": "markdown",
   "id": "8c08f226",
   "metadata": {},
   "source": [
    "## loss comparasion between train & test and validation while using subgradient and gradient"
   ]
  },
  {
   "cell_type": "code",
   "execution_count": null,
   "id": "ac3bf582",
   "metadata": {},
   "outputs": [],
   "source": [
    "import matplotlib.pyplot as plt\n",
    "\n",
    "# Create a figure with two subplots\n",
    "fig, (ax1, ax2) = plt.subplots(1, 2, figsize=(15, 6))\n",
    "\n",
    "# Plot the loss curve for Subgradient\n",
    "ax1.plot(train_losses_sub, label='Training Loss (Subgradient)', color='blue')\n",
    "ax1.plot(val_losses_sub, label='Validation Loss (Subgradient)', color='orange')\n",
    "ax1.plot(test_losses_sub, label='Test Loss (Subgradient)', color='green')\n",
    "ax1.set_title('Loss Curve with Subgradient Descent')\n",
    "ax1.set_xlabel('Epochs')\n",
    "ax1.set_ylabel('Loss')\n",
    "ax1.legend()\n",
    "\n",
    "# Plot the loss curve for Gradient\n",
    "ax2.plot(train_losses_grad, label='Training Loss (Gradient)', color='blue', linestyle='--')\n",
    "ax2.plot(val_losses_grad, label='Validation Loss (Gradient)', color='orange', linestyle='--')\n",
    "ax2.plot(test_losses_grad, label='Test Loss (Gradient)', color='green', linestyle='--')\n",
    "ax2.set_title('Loss Curve with Gradient Descent')\n",
    "ax2.set_xlabel('Epochs')\n",
    "ax2.set_ylabel('Loss')\n",
    "ax2.legend()\n",
    "\n",
    "# Show the figure\n",
    "plt.tight_layout()\n",
    "plt.show()"
   ]
  },
  {
   "cell_type": "markdown",
   "id": "672fb62d",
   "metadata": {},
   "source": [
    "## loss comparasion between train & test and validation while using subgradient and gradient"
   ]
  },
  {
   "cell_type": "code",
   "execution_count": null,
   "id": "22ec0d71",
   "metadata": {},
   "outputs": [],
   "source": [
    "import matplotlib.pyplot as plt\n",
    "\n",
    "# Create a figure with two subplots\n",
    "fig, (ax1, ax2) = plt.subplots(1, 2, figsize=(15, 6))\n",
    "\n",
    "# Plot the accuracy curves for Gradient Descent\n",
    "ax1.plot(train_accuracies_grad, label='Training Accuracy (Gradient)', color='blue', linestyle='-')\n",
    "ax1.plot(val_accuracies_grad, label='Validation Accuracy (Gradient)', color='orange', linestyle='-')\n",
    "ax1.plot(test_accuracies_grad, label='Test Accuracy (Gradient)', color='green', linestyle='-')\n",
    "ax1.set_title('Accuracy Curves for Gradient Descent')\n",
    "ax1.set_xlabel('Epochs')\n",
    "ax1.set_ylabel('Accuracy')\n",
    "ax1.legend()\n",
    "\n",
    "# Plot the accuracy curves for Subgradient Descent\n",
    "ax2.plot(train_accuracies_sub, label='Training Accuracy (Subgradient)', color='blue', linestyle='--')\n",
    "ax2.plot(val_accuracies_sub, label='Validation Accuracy (Subgradient)', color='orange', linestyle='--')\n",
    "ax2.plot(test_accuracies_sub, label='Test Accuracy (Subgradient)', color='green', linestyle='--')\n",
    "ax2.set_title('Accuracy Curves for Subgradient Descent')\n",
    "ax2.set_xlabel('Epochs')\n",
    "ax2.set_ylabel('Accuracy')\n",
    "ax2.legend()\n",
    "\n",
    "# Adjust layout and show the figure\n",
    "plt.tight_layout()\n",
    "plt.show()\n"
   ]
  },
  {
   "cell_type": "markdown",
   "id": "c16dab8a",
   "metadata": {},
   "source": [
    "## Confusion matrix "
   ]
  },
  {
   "cell_type": "code",
   "execution_count": null,
   "id": "44fa9c45",
   "metadata": {},
   "outputs": [],
   "source": [
    "import seaborn as sns\n",
    "import matplotlib.pyplot as plt\n",
    "\n",
    "# Compute the confusion matrix\n",
    "unique_labels = np.unique(y_test)\n",
    "cm = np.zeros((len(unique_labels), len(unique_labels)), dtype=int)\n",
    "\n",
    "for true, pred in zip(y_test, svm_subgradient.predict(x_test)):\n",
    "    cm[int(true == 1), int(pred == 1)] += 1\n",
    "\n",
    "# Plot the confusion matrix\n",
    "plt.figure(figsize=(8, 6))\n",
    "sns.heatmap(cm, annot=True, fmt='d', cmap='Blues', xticklabels=unique_labels, yticklabels=unique_labels)\n",
    "plt.xlabel('Predicted Labels')\n",
    "plt.ylabel('True Labels')\n",
    "plt.title('Confusion Matrix')\n",
    "plt.show()"
   ]
  },
  {
   "cell_type": "code",
   "execution_count": null,
   "id": "f472954a",
   "metadata": {},
   "outputs": [],
   "source": [
    "# Initialize confusion matrix values\n",
    "true_positive = sum((y_test == 1) & (svm_subgradient.predict(x_test) == 1))\n",
    "false_positive = sum((y_test == -1) & (svm_subgradient.predict(x_test) == 1))\n",
    "false_negative = sum((y_test == 1) & (svm_subgradient.predict(x_test) == -1))\n",
    "\n",
    "# Calculate precision and recall\n",
    "precision = true_positive / (true_positive + false_positive) if (true_positive + false_positive) > 0 else 0\n",
    "recall = true_positive / (true_positive + false_negative) if (true_positive + false_negative) > 0 else 0\n",
    "\n",
    "print(f\"Precision: {precision:.4f}\")\n",
    "print(f\"Recall: {recall:.4f}\")"
   ]
  },
  {
   "cell_type": "code",
   "execution_count": null,
   "id": "78b43b8a",
   "metadata": {},
   "outputs": [],
   "source": [
    "# Extract weights and bias for gradient optimizer\n",
    "w_grad = svm_gradient.w\n",
    "b_grad = svm_gradient.b\n",
    "\n",
    "# Extract weights and bias for the unoptimized model (assuming initial weights and bias are zeros)\n",
    "w_unoptimized = np.zeros_like(w_grad)\n",
    "b_unoptimized = 0\n",
    "\n",
    "# Plot the data points\n",
    "plt.figure(figsize=(10, 6))\n",
    "plt.scatter(x[:, 0][y == -1], x[:, 1][y == -1], color='purple', label='Class 0', alpha=0.6)\n",
    "plt.scatter(x[:, 0][y == 1], x[:, 1][y == 1], color='blue', label='Class 1', alpha=0.6)\n",
    "\n",
    "# Define weights and bias for subgradient optimizer\n",
    "w = svm_subgradient.w\n",
    "b = svm_subgradient.b\n",
    "\n",
    "# Define x1 range for plotting\n",
    "x1 = np.linspace(x[:, 0].min(), x[:, 0].max(), 100)\n",
    "\n",
    "# Plot the decision boundary for subgradient optimizer\n",
    "x2_sub = -(w[0] * x1 + b) / w[1]\n",
    "plt.plot(x1, x2_sub, color='red', label='Subgradient Decision Boundary')\n",
    "\n",
    "# Plot the decision boundary for gradient optimizer\n",
    "x2_grad = -(w_grad[0] * x1 + b_grad) / w_grad[1]\n",
    "plt.plot(x1, x2_grad, color='green', label='Gradient Decision Boundary')\n",
    "\n",
    "# Plot the decision boundary for unoptimized model\n",
    "x2_unoptimized = -(w_unoptimized[0] * x1 + b_unoptimized) / (w_unoptimized[1] + 1e-10)  # Avoid division by zero\n",
    "plt.plot(x1, x2_unoptimized, color='orange', label='Unoptimized Decision Boundary', linestyle='--')\n",
    "\n",
    "# Add labels and legend\n",
    "plt.xlabel('Feature 1')\n",
    "plt.ylabel('Feature 2')\n",
    "plt.title('Decision Boundaries for Different Optimizers')\n",
    "plt.legend()\n",
    "plt.show()"
   ]
  },
  {
   "cell_type": "markdown",
   "id": "85a9dc69",
   "metadata": {},
   "source": [
    "# Comparative Analysis\n"
   ]
  },
  {
   "cell_type": "code",
   "execution_count": null,
   "id": "2dc241c5",
   "metadata": {},
   "outputs": [],
   "source": [
    "from IPython.display import Markdown, display\n",
    "import matplotlib.pyplot as plt\n",
    "\n",
    "def find_convergence_epoch(losses, threshold=1e-4, patience=5):\n",
    "    \"\"\"\n",
    "    Detects convergence: if the loss change over 'patience' epochs is below 'threshold'.\n",
    "    \"\"\"\n",
    "    for i in range(len(losses) - patience):\n",
    "        window = losses[i:i+patience]\n",
    "        if max(window) - min(window) < threshold:\n",
    "            return i + patience\n",
    "    return len(losses)\n",
    "\n",
    "def plot_loss_with_convergence(train_losses_grad, train_losses_sub, epoch_gd, epoch_sub):\n",
    "    plt.figure(figsize=(10, 6))\n",
    "    \n",
    "    # Plot the loss curves\n",
    "    plt.plot(train_losses_grad, label='Gradient Descent Loss', color='blue')\n",
    "    plt.plot(train_losses_sub, label='Subgradient Descent Loss', color='green')\n",
    "    \n",
    "    # Plot vertical lines for convergence\n",
    "    plt.axvline(x=epoch_gd, color='red', linestyle='--', label=f'GD Converged @ {epoch_gd}')\n",
    "    plt.axvline(x=epoch_sub, color='orange', linestyle='--', label=f'SubGD Converged @ {epoch_sub}')\n",
    "    \n",
    "    # Labels and title\n",
    "    plt.title('Loss per Epoch with Convergence Points')\n",
    "    plt.xlabel('Epoch')\n",
    "    plt.ylabel('Hinge Loss')\n",
    "    plt.legend()\n",
    "    plt.grid(True)\n",
    "    plt.tight_layout()\n",
    "    plt.show()\n",
    "\n",
    "def display_results():\n",
    "    # Accuracy Comparison\n",
    "    display(Markdown(\"## Accuracy Comparison\"))\n",
    "    sub_train_acc, sub_val_acc = train_accuracies_sub[-1] * 100, val_accuracies_sub[-1] * 100\n",
    "    grad_train_acc, grad_val_acc = train_accuracies_grad[-1] * 100, val_accuracies_grad[-1] * 100\n",
    "\n",
    "    display(Markdown(f\"Subgradient Descent: **{sub_train_acc:.2f}%** train, **{sub_val_acc:.2f}%** validation accuracy.\"))\n",
    "    display(Markdown(f\"Gradient Descent: **{grad_train_acc:.2f}%** train, **{grad_val_acc:.2f}%** validation accuracy.\"))\n",
    "    display(Markdown(\"**Conclusion:** \" + \n",
    "                     (\"Subgradient Descent generalizes better.\" if sub_val_acc > grad_val_acc else \"Gradient Descent generalizes better.\")))\n",
    "\n",
    "    # Convergence Speed\n",
    "    display(Markdown(\"## Convergence Speed\"))\n",
    "    epoch_gd = find_convergence_epoch(train_losses_grad)\n",
    "    epoch_sub = find_convergence_epoch(train_losses_sub)\n",
    "\n",
    "    display(Markdown(f\"Gradient Descent converged at epoch: **{epoch_gd}**.\"))\n",
    "    display(Markdown(f\"Subgradient Descent converged at epoch: **{epoch_sub}**.\"))\n",
    "\n",
    "    if epoch_gd < epoch_sub:\n",
    "        display(Markdown(\"**Conclusion:** Gradient Descent converged faster than Subgradient Descent.\"))\n",
    "    else:\n",
    "        display(Markdown(\"**Conclusion:** Subgradient Descent converged faster than Gradient Descent.\"))\n",
    "\n",
    "    # Plot Loss Curves with Convergence Points\n",
    "    plot_loss_with_convergence(train_losses_grad, train_losses_sub, epoch_gd, epoch_sub)\n",
    "\n",
    "    # Stability of the Loss Function\n",
    "    display(Markdown(\"## Stability of the Loss Function\"))\n",
    "    sub_loss_std, grad_loss_std = np.std(train_losses_sub), np.std(train_losses_grad)\n",
    "\n",
    "    display(Markdown(f\"Subgradient Descent loss variance: **{sub_loss_std:.4f}**.\"))\n",
    "    display(Markdown(f\"Gradient Descent loss variance: **{grad_loss_std:.4f}**.\"))\n",
    "    display(Markdown(\"**Conclusion:** \" + \n",
    "                     (\"Subgradient Descent is more stable.\" if sub_loss_std < grad_loss_std else \"Gradient Descent is more stable.\")))\n",
    "\n",
    "    # Plot Loss Curves\n",
    "    plt.figure(figsize=(10, 5))\n",
    "    plt.plot(train_losses_sub, label='Subgradient Loss', color='blue')\n",
    "    plt.plot(train_losses_grad, label='Gradient Loss', color='orange')\n",
    "    plt.title('Loss Function Stability')\n",
    "    plt.xlabel('Epochs')\n",
    "    plt.ylabel('Loss')\n",
    "    plt.legend()\n",
    "    plt.show()\n",
    "\n",
    "    # Generalization on Test Data\n",
    "    display(Markdown(\"## Generalization on Test Data\"))\n",
    "    sub_test_acc, grad_test_acc = test_accuracies_sub[-1] * 100, test_accuracies_grad[-1] * 100\n",
    "\n",
    "    display(Markdown(f\"Subgradient Descent test accuracy: **{sub_test_acc:.2f}%**.\"))\n",
    "    display(Markdown(f\"Gradient Descent test accuracy: **{grad_test_acc:.2f}%**.\"))\n",
    "    display(Markdown(\"**Conclusion:** \" + \n",
    "                     (\"Subgradient Descent generalizes better.\" if sub_test_acc > grad_test_acc else \n",
    "                      \"Gradient Descent generalizes better.\" if sub_test_acc < grad_test_acc else \n",
    "                      \"Both methods generalize equally well.\")))\n",
    "\n",
    "    # Confusion Matrices\n",
    "    def plot_confusion_matrix(model, title):\n",
    "        cm = np.zeros((2, 2), dtype=int)\n",
    "        for true, pred in zip(y_test, model.predict(x_test)):\n",
    "            cm[int(true == 1), int(pred == 1)] += 1\n",
    "        sns.heatmap(cm, annot=True, fmt='d', cmap='Blues', xticklabels=[\"-1\", \"1\"], yticklabels=[\"-1\", \"1\"])\n",
    "        plt.title(title)\n",
    "        plt.xlabel('Predicted Labels')\n",
    "        plt.ylabel('True Labels')\n",
    "        plt.show()\n",
    "\n",
    "    display(Markdown(\"### Confusion Matrix for Subgradient Descent\"))\n",
    "    plot_confusion_matrix(svm_subgradient, \"Subgradient Descent\")\n",
    "\n",
    "    display(Markdown(\"### Confusion Matrix for Gradient Descent\"))\n",
    "    plot_confusion_matrix(svm_gradient, \"Gradient Descent\")\n",
    "\n",
    "# Call the function to display results\n",
    "display_results()"
   ]
  },
  {
   "cell_type": "code",
   "execution_count": null,
   "id": "05462439-ba24-46da-8029-6fa1af1701da",
   "metadata": {},
   "outputs": [],
   "source": []
  }
 ],
 "metadata": {
  "kernelspec": {
   "display_name": "Python [conda env:base] *",
   "language": "python",
   "name": "conda-base-py"
  },
  "language_info": {
   "codemirror_mode": {
    "name": "ipython",
    "version": 3
   },
   "file_extension": ".py",
   "mimetype": "text/x-python",
   "name": "python",
   "nbconvert_exporter": "python",
   "pygments_lexer": "ipython3",
   "version": "3.12.7"
  }
 },
 "nbformat": 4,
 "nbformat_minor": 5
}
